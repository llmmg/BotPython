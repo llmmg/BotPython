{
 "cells": [
  {
   "cell_type": "code",
   "execution_count": null,
   "metadata": {
    "collapsed": true
   },
   "outputs": [],
   "source": [
    "# Prototypes et tests"
   ]
  },
  {
   "cell_type": "markdown",
   "metadata": {},
   "source": [
    "## Vote et affichage du resultat"
   ]
  },
  {
   "cell_type": "code",
   "execution_count": 5,
   "metadata": {
    "collapsed": false
   },
   "outputs": [
    {
     "name": "stdout",
     "output_type": "stream",
     "text": [
      "Quel est le sujet du vote?:test\n",
      "choix de votes possibles[emoj=def,emoj=def2,...]lel=ok mdr,love=super,sun=tres bien\n",
      "['lel=ok mdr', 'love=super', 'sun=tres bien']\n",
      "{'love': 'super', 'sun': 'tres bien', 'lel': 'ok mdr'}\n",
      "choix possibles:\n",
      "love\n",
      "sun\n",
      "lel\n",
      "testlove\n",
      "revoter?[y,n]:y\n",
      "choix possibles:\n",
      "love\n",
      "sun\n",
      "lel\n",
      "testlove\n",
      "revoter?[y,n]:y\n",
      "choix possibles:\n",
      "love\n",
      "sun\n",
      "lel\n",
      "testlel\n",
      "revoter?[y,n]:y\n",
      "choix possibles:\n",
      "love\n",
      "sun\n",
      "lel\n",
      "testsun\n",
      "revoter?[y,n]:n\n",
      "resultat du vote:\n",
      "{'love': 2}\n",
      "{'love': 2, 'sun': 1}\n",
      "{'love': 2, 'sun': 1, 'lel': 1}\n",
      "nombre de vote love = 2\n",
      "nombre de vote sun = 1\n",
      "nombre de vote lel = 1\n"
     ]
    }
   ],
   "source": [
    "#graphs utiliser matplotlib\n",
    "#pour compter les votes\n",
    "from collections import Counter\n",
    "\n",
    "\n",
    "#creation du vote \n",
    "#-> question du vote\n",
    "question=input(\"Quel est le sujet du vote?:\")\n",
    "\n",
    "#-> reponse possibles \n",
    "choix=input(\"choix de votes possibles[emoj=def,emoj=def2,...]\").split(\",\")\n",
    "print(choix)\n",
    "emojDef={}\n",
    "for emoj in choix:\n",
    "    emoj=emoj.split(\"=\")\n",
    "    emojDef.update({emoj[0]:emoj[1]})\n",
    "    \n",
    "print(emojDef)\n",
    "#{emoj:'def',emoj2:'def2'}\n",
    "\n",
    "stillVote=True\n",
    "votes=[]\n",
    "while stillVote: \n",
    "    #saisie du vote\n",
    "    print(\"choix possibles:\")\n",
    "    for key,value in emojDef.items():\n",
    "        print(key)\n",
    "        \n",
    "    vote=input(question)\n",
    "    votes.append(vote)\n",
    "#     votes[vote]+=1\n",
    "    \n",
    "    again=input(\"revoter?[y,n]:\")\n",
    "    if again=='y':\n",
    "        stillVote=True\n",
    "    else:\n",
    "        stillVote=False\n",
    "        \n",
    "print(\"resultat du vote:\")\n",
    "\n",
    "#compt=Counter(votes)\n",
    "compt={}\n",
    "for chx in emojDef.keys():\n",
    "    compt.update({chx:votes.count(chx)})\n",
    "    print(compt)\n",
    "    \n",
    "# compt={votes.count('oui'):'oui',votes.count('non'):'non'}\n",
    "for vote, nb in compt.items():\n",
    "    print(\"nombre de vote\",vote,\"=\",nb)\n",
    "    \n",
    "    \n",
    "#Vote statistiques\n",
    "# data=[\n",
    "#     go.Bar(\n",
    "#         x=['A','B'],\n",
    "#         y=[1,2]\n",
    "#     )\n",
    "# ]\n",
    "# # plot_url=py.plot(data,filename='basic-bar')\n",
    "# line_chart=pygal.Bar()\n",
    "# line_chart.title='dsfsdf'\n",
    "# line_chart.add(\"sdfsdf\",[1,2,3,4])"
   ]
  }
 ],
 "metadata": {
  "kernelspec": {
   "display_name": "Python 3",
   "language": "python",
   "name": "python3"
  },
  "language_info": {
   "codemirror_mode": {
    "name": "ipython",
    "version": 3
   },
   "file_extension": ".py",
   "mimetype": "text/x-python",
   "name": "python",
   "nbconvert_exporter": "python",
   "pygments_lexer": "ipython3",
   "version": "3.5.1"
  }
 },
 "nbformat": 4,
 "nbformat_minor": 0
}
