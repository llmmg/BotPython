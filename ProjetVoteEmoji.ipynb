{
 "cells": [
  {
   "cell_type": "markdown",
   "metadata": {},
   "source": [
    "# Prototypes et tests "
   ]
  },
  {
   "cell_type": "markdown",
   "metadata": {},
   "source": [
    "## Vote et affichage du resultat"
   ]
  },
  {
   "cell_type": "code",
   "execution_count": 4,
   "metadata": {
    "collapsed": false
   },
   "outputs": [
    {
     "name": "stdout",
     "output_type": "stream",
     "text": [
      "Quel est le sujet du vote?:derp?\n",
      "choix de votes possibles[vote1,vote2,...]derp,k,nope\n",
      "['derp', 'k', 'nope']\n",
      "choix possibles:\n",
      "['derp', 'k', 'nope']\n",
      "derp?nope\n",
      "revoter?[y,n]:y\n",
      "choix possibles:\n",
      "['derp', 'k', 'nope']\n",
      "derp?derp\n",
      "revoter?[y,n]:y\n",
      "choix possibles:\n",
      "['derp', 'k', 'nope']\n",
      "derp?derp\n",
      "revoter?[y,n]:y\n",
      "choix possibles:\n",
      "['derp', 'k', 'nope']\n",
      "derp?derp\n",
      "revoter?[y,n]:y\n",
      "choix possibles:\n",
      "['derp', 'k', 'nope']\n",
      "derp?k\n",
      "revoter?[y,n]:y\n",
      "choix possibles:\n",
      "['derp', 'k', 'nope']\n",
      "derp?k\n",
      "revoter?[y,n]:n\n",
      "resultat du vote:\n",
      "{3: 'derp'}\n",
      "{2: 'k', 3: 'derp'}\n",
      "{1: 'nope', 2: 'k', 3: 'derp'}\n",
      "nombre de vote nope = 1\n",
      "nombre de vote k = 2\n",
      "nombre de vote derp = 3\n"
     ]
    }
   ],
   "source": [
    "#graphs utiliser matplotlib\n",
    "#pour compter les votes\n",
    "from collections import Counter\n",
    "\n",
    "\n",
    "#creation du vote \n",
    "#-> question du vote\n",
    "question=input(\"Quel est le sujet du vote?:\")\n",
    "\n",
    "#-> reponse possibles \n",
    "choix=input(\"choix de votes possibles[vote1,vote2,...]\").split(\",\")\n",
    "print(choix)\n",
    "\n",
    "stillVote=True\n",
    "votes=[]\n",
    "while stillVote: \n",
    "    #saisie du vote\n",
    "    print(\"choix possibles:\")\n",
    "    print(choix)\n",
    "    vote=input(question)\n",
    "    votes.append(vote)\n",
    "#     votes[vote]+=1\n",
    "    \n",
    "    again=input(\"revoter?[y,n]:\")\n",
    "    if again=='y':\n",
    "        stillVote=True\n",
    "    else:\n",
    "        stillVote=False\n",
    "        \n",
    "print(\"resultat du vote:\")\n",
    "\n",
    "#compt=Counter(votes)\n",
    "compt={}\n",
    "for chx in choix:\n",
    "    compt.update({votes.count(chx):chx})\n",
    "    print(compt)\n",
    "    \n",
    "# compt={votes.count('oui'):'oui',votes.count('non'):'non'}\n",
    "for nb, vote in compt.items():\n",
    "    print(\"nombre de vote\",vote,\"=\",nb)\n",
    "    \n",
    "    \n",
    "#Vote statistiques\n",
    "# data=[\n",
    "#     go.Bar(\n",
    "#         x=['A','B'],\n",
    "#         y=[1,2]\n",
    "#     )\n",
    "# ]\n",
    "# # plot_url=py.plot(data,filename='basic-bar')\n",
    "# line_chart=pygal.Bar()\n",
    "# line_chart.title='dsfsdf'\n",
    "# line_chart.add(\"sdfsdf\",[1,2,3,4])\n"
   ]
  }
 ],
 "metadata": {
  "kernelspec": {
   "display_name": "Python 3",
   "language": "python",
   "name": "python3"
  },
  "language_info": {
   "codemirror_mode": {
    "name": "ipython",
    "version": 3
   },
   "file_extension": ".py",
   "mimetype": "text/x-python",
   "name": "python",
   "nbconvert_exporter": "python",
   "pygments_lexer": "ipython3",
   "version": "3.5.1"
  }
 },
 "nbformat": 4,
 "nbformat_minor": 0
}
